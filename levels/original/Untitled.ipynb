{
 "cells": [
  {
   "cell_type": "code",
   "execution_count": 7,
   "metadata": {},
   "outputs": [],
   "source": [
    "def get_num(x):\n",
    "    try:\n",
    "        return {\n",
    "                'M': 0,\n",
    "                'F': 1,\n",
    "                '1': 2,\n",
    "                '2': 2,\n",
    "                '-': 2,\n",
    "                '*': 2,\n",
    "                'E': 2,\n",
    "                'y': 3,\n",
    "                'Y': 3,\n",
    "                'g':4,\n",
    "                'G': 4,\n",
    "                'k': 5,\n",
    "                'K': 5,\n",
    "                'r': 6,\n",
    "                'X': 7,\n",
    "                '#': 8,\n",
    "                '%': 9,\n",
    "                '|': 10,\n",
    "                't': 11,\n",
    "                'T': 11,\n",
    "                '@':12,\n",
    "                '!':12,\n",
    "                'D': 12,\n",
    "                'B': 13,\n",
    "                'b': 14,\n",
    "                '?' :15,\n",
    "                'Q' :16,\n",
    "                'S': 17,\n",
    "                'C': 17,\n",
    "                'U': 17,\n",
    "                'L': 17,\n",
    "                'o': 18,\n",
    "                '<': 19,\n",
    "                '>': 20,\n",
    "                '[': 21,\n",
    "                ']': 22,\n",
    "            }[x]\n",
    "    except KeyError:\n",
    "        return 2"
   ]
  },
  {
   "cell_type": "code",
   "execution_count": 8,
   "metadata": {},
   "outputs": [
    {
     "name": "stdout",
     "output_type": "stream",
     "text": [
      "1\n"
     ]
    }
   ],
   "source": [
    "allLevels=[]\n",
    "width=56\n",
    "\n",
    "for fileNum in range (1,2):\n",
    "    print(fileNum)\n",
    "    fileName=\"lvl-\"+str(fileNum)+\".txt\"\n",
    "    f = open(fileName, \"r\")\n",
    "    allLines=[]\n",
    "    for line in f:\n",
    "        line=line.replace(\"\\n\",\"\")\n",
    "        allLines.append(line)\n",
    "    startIndex=0\n",
    "    maxIndex=len(allLines[0])\n",
    "    while startIndex+width<=maxIndex:\n",
    "        oneLevel=[]\n",
    "        for rowIndex in range (0,16):\n",
    "            currLineText=allLines[rowIndex][startIndex:startIndex+width]\n",
    "            currLine=[]\n",
    "            for char in currLineText:\n",
    "                num=get_num(char)\n",
    "                currLine.append(num)\n",
    "            oneLevel.append(currLine)\n",
    "        allLevels.append(oneLevel)\n",
    "        startIndex=startIndex+1"
   ]
  },
  {
   "cell_type": "code",
   "execution_count": 9,
   "metadata": {},
   "outputs": [],
   "source": [
    "import json\n",
    "with open('NewTrainingLevels.json', 'w') as outfile:\n",
    "    json.dump(allLevels,outfile)"
   ]
  },
  {
   "cell_type": "code",
   "execution_count": null,
   "metadata": {},
   "outputs": [],
   "source": []
  }
 ],
 "metadata": {
  "kernelspec": {
   "display_name": "Python 3",
   "language": "python",
   "name": "python3"
  },
  "language_info": {
   "codemirror_mode": {
    "name": "ipython",
    "version": 3
   },
   "file_extension": ".py",
   "mimetype": "text/x-python",
   "name": "python",
   "nbconvert_exporter": "python",
   "pygments_lexer": "ipython3",
   "version": "3.6.9"
  }
 },
 "nbformat": 4,
 "nbformat_minor": 2
}
